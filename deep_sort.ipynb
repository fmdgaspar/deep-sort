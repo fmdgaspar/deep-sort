{
 "cells": [
  {
   "cell_type": "code",
   "execution_count": 1,
   "id": "bb19094a",
   "metadata": {
    "scrolled": true
   },
   "outputs": [
    {
     "name": "stdout",
     "output_type": "stream",
     "text": [
      "Cloning into 'Yolov5_DeepSort_Pytorch'...\n",
      "remote: Enumerating objects: 1764, done.\u001b[K\n",
      "remote: Counting objects: 100% (126/126), done.\u001b[K\n",
      "remote: Compressing objects: 100% (66/66), done.\u001b[K\n",
      "remote: Total 1764 (delta 72), reused 105 (delta 60), pack-reused 1638\u001b[K\n",
      "Receiving objects: 100% (1764/1764), 36.08 MiB | 15.78 MiB/s, done.\n",
      "Resolving deltas: 100% (908/908), done.\n",
      "Submodule 'strong_sort/deep/reid' (https://github.com/KaiyangZhou/deep-person-reid) registered for path 'strong_sort/deep/reid'\n",
      "Submodule 'yolov5' (https://github.com/ultralytics/yolov5.git) registered for path 'yolov5'\n",
      "Cloning into '/Users/fmdgaspar/Desktop/Yolov5_DeepSort_Pytorch/strong_sort/deep/reid'...\n",
      "remote: Enumerating objects: 9860, done.        \n",
      "remote: Counting objects: 100% (10/10), done.        \n",
      "remote: Compressing objects: 100% (9/9), done.        \n",
      "remote: Total 9860 (delta 1), reused 9 (delta 1), pack-reused 9850        \n",
      "Receiving objects: 100% (9860/9860), 9.57 MiB | 12.48 MiB/s, done.\n",
      "Resolving deltas: 100% (7286/7286), done.\n",
      "Cloning into '/Users/fmdgaspar/Desktop/Yolov5_DeepSort_Pytorch/yolov5'...\n",
      "remote: Enumerating objects: 12194, done.        \n",
      "remote: Counting objects: 100% (1/1), done.        \n",
      "remote: Total 12194 (delta 0), reused 1 (delta 0), pack-reused 12193        \n",
      "Receiving objects: 100% (12194/12194), 12.57 MiB | 5.80 MiB/s, done.\n",
      "Resolving deltas: 100% (8402/8402), done.\n",
      "Submodule path 'strong_sort/deep/reid': checked out '4a0793780bd13f53ec2ca753a94dcef62dc9e955'\n",
      "Submodule path 'yolov5': checked out '91a81d48fa4e34dbdbaf0e45a1f841c11216aab5'\n"
     ]
    }
   ],
   "source": [
    "!git clone --recurse-submodules https://github.com/mikel-brostrom/Yolov5_DeepSort_Pytorch.git\n"
   ]
  },
  {
   "cell_type": "code",
   "execution_count": 2,
   "id": "f5353c3a",
   "metadata": {},
   "outputs": [
    {
     "name": "stdout",
     "output_type": "stream",
     "text": [
      "/Users/fmdgaspar/Desktop/Yolov5_DeepSort_Pytorch\n"
     ]
    }
   ],
   "source": [
    "cd Yolov5_DeepSort_Pytorch\n"
   ]
  },
  {
   "cell_type": "code",
   "execution_count": 4,
   "id": "f6297c89",
   "metadata": {},
   "outputs": [
    {
     "name": "stdout",
     "output_type": "stream",
     "text": [
      "Requirement already satisfied: matplotlib>=3.2.2 in /Users/fmdgaspar/opt/anaconda3/lib/python3.9/site-packages (from -r requirements.txt (line 4)) (3.4.3)\n",
      "Requirement already satisfied: numpy>=1.18.5 in /Users/fmdgaspar/opt/anaconda3/lib/python3.9/site-packages (from -r requirements.txt (line 5)) (1.20.3)\n",
      "Requirement already satisfied: opencv-python>=4.1.1 in /Users/fmdgaspar/opt/anaconda3/lib/python3.9/site-packages (from -r requirements.txt (line 6)) (4.6.0.66)\n",
      "Requirement already satisfied: Pillow>=7.1.2 in /Users/fmdgaspar/opt/anaconda3/lib/python3.9/site-packages (from -r requirements.txt (line 7)) (9.0.1)\n",
      "Requirement already satisfied: PyYAML>=5.3.1 in /Users/fmdgaspar/opt/anaconda3/lib/python3.9/site-packages (from -r requirements.txt (line 8)) (6.0)\n",
      "Requirement already satisfied: requests>=2.23.0 in /Users/fmdgaspar/opt/anaconda3/lib/python3.9/site-packages (from -r requirements.txt (line 9)) (2.26.0)\n",
      "Requirement already satisfied: scipy>=1.4.1 in /Users/fmdgaspar/opt/anaconda3/lib/python3.9/site-packages (from -r requirements.txt (line 10)) (1.7.1)\n",
      "Requirement already satisfied: torch>=1.7.0 in /Users/fmdgaspar/opt/anaconda3/lib/python3.9/site-packages (from -r requirements.txt (line 11)) (1.12.1)\n",
      "Requirement already satisfied: torchvision>=0.8.1 in /Users/fmdgaspar/opt/anaconda3/lib/python3.9/site-packages (from -r requirements.txt (line 12)) (0.13.1)\n",
      "Requirement already satisfied: tqdm>=4.64.0 in /Users/fmdgaspar/opt/anaconda3/lib/python3.9/site-packages (from -r requirements.txt (line 13)) (4.64.1)\n",
      "Requirement already satisfied: protobuf<=3.20.1 in /Users/fmdgaspar/opt/anaconda3/lib/python3.9/site-packages (from -r requirements.txt (line 14)) (3.19.4)\n",
      "Requirement already satisfied: pandas>=1.1.4 in /Users/fmdgaspar/opt/anaconda3/lib/python3.9/site-packages (from -r requirements.txt (line 18)) (1.3.4)\n",
      "Requirement already satisfied: seaborn>=0.11.0 in /Users/fmdgaspar/opt/anaconda3/lib/python3.9/site-packages (from -r requirements.txt (line 19)) (0.11.2)\n",
      "Collecting easydict\n",
      "  Downloading easydict-1.9.tar.gz (6.4 kB)\n",
      "Requirement already satisfied: Cython in /Users/fmdgaspar/opt/anaconda3/lib/python3.9/site-packages (from -r requirements.txt (line 27)) (0.29.24)\n",
      "Requirement already satisfied: h5py in /Users/fmdgaspar/opt/anaconda3/lib/python3.9/site-packages (from -r requirements.txt (line 28)) (2.10.0)\n",
      "Requirement already satisfied: six in /Users/fmdgaspar/opt/anaconda3/lib/python3.9/site-packages (from -r requirements.txt (line 29)) (1.16.0)\n",
      "Collecting tb-nightly\n",
      "  Downloading tb_nightly-2.11.0a20220907-py3-none-any.whl (5.9 MB)\n",
      "\u001b[K     |████████████████████████████████| 5.9 MB 3.8 MB/s eta 0:00:01\n",
      "\u001b[?25hRequirement already satisfied: future in /Users/fmdgaspar/opt/anaconda3/lib/python3.9/site-packages (from -r requirements.txt (line 31)) (0.18.2)\n",
      "Collecting yacs\n",
      "  Downloading yacs-0.1.8-py3-none-any.whl (14 kB)\n",
      "Collecting gdown\n",
      "  Downloading gdown-4.5.1.tar.gz (14 kB)\n",
      "  Installing build dependencies ... \u001b[?25ldone\n",
      "\u001b[?25h  Getting requirements to build wheel ... \u001b[?25ldone\n",
      "\u001b[?25h    Preparing wheel metadata ... \u001b[?25ldone\n",
      "\u001b[?25hRequirement already satisfied: flake8 in /Users/fmdgaspar/opt/anaconda3/lib/python3.9/site-packages (from -r requirements.txt (line 34)) (3.9.2)\n",
      "Requirement already satisfied: yapf in /Users/fmdgaspar/opt/anaconda3/lib/python3.9/site-packages (from -r requirements.txt (line 35)) (0.31.0)\n",
      "Collecting isort==4.3.21\n",
      "  Downloading isort-4.3.21-py2.py3-none-any.whl (42 kB)\n",
      "\u001b[K     |████████████████████████████████| 42 kB 6.6 MB/s s eta 0:00:01\n",
      "\u001b[?25hRequirement already satisfied: imageio in /Users/fmdgaspar/opt/anaconda3/lib/python3.9/site-packages (from -r requirements.txt (line 37)) (2.9.0)\n",
      "Collecting GitPython\n",
      "  Using cached GitPython-3.1.27-py3-none-any.whl (181 kB)\n",
      "Requirement already satisfied: pyparsing>=2.2.1 in /Users/fmdgaspar/opt/anaconda3/lib/python3.9/site-packages (from matplotlib>=3.2.2->-r requirements.txt (line 4)) (3.0.4)\n",
      "Requirement already satisfied: kiwisolver>=1.0.1 in /Users/fmdgaspar/opt/anaconda3/lib/python3.9/site-packages (from matplotlib>=3.2.2->-r requirements.txt (line 4)) (1.3.1)\n",
      "Requirement already satisfied: cycler>=0.10 in /Users/fmdgaspar/opt/anaconda3/lib/python3.9/site-packages (from matplotlib>=3.2.2->-r requirements.txt (line 4)) (0.10.0)\n",
      "Requirement already satisfied: python-dateutil>=2.7 in /Users/fmdgaspar/opt/anaconda3/lib/python3.9/site-packages (from matplotlib>=3.2.2->-r requirements.txt (line 4)) (2.8.1)\n",
      "Requirement already satisfied: urllib3<1.27,>=1.21.1 in /Users/fmdgaspar/opt/anaconda3/lib/python3.9/site-packages (from requests>=2.23.0->-r requirements.txt (line 9)) (1.26.7)\n",
      "Requirement already satisfied: idna<4,>=2.5 in /Users/fmdgaspar/opt/anaconda3/lib/python3.9/site-packages (from requests>=2.23.0->-r requirements.txt (line 9)) (3.2)\n",
      "Requirement already satisfied: charset-normalizer~=2.0.0 in /Users/fmdgaspar/opt/anaconda3/lib/python3.9/site-packages (from requests>=2.23.0->-r requirements.txt (line 9)) (2.0.4)\n",
      "Requirement already satisfied: certifi>=2017.4.17 in /Users/fmdgaspar/opt/anaconda3/lib/python3.9/site-packages (from requests>=2.23.0->-r requirements.txt (line 9)) (2022.6.15)\n",
      "Requirement already satisfied: typing-extensions in /Users/fmdgaspar/opt/anaconda3/lib/python3.9/site-packages (from torch>=1.7.0->-r requirements.txt (line 11)) (4.3.0)\n",
      "Requirement already satisfied: pytz>=2017.3 in /Users/fmdgaspar/opt/anaconda3/lib/python3.9/site-packages (from pandas>=1.1.4->-r requirements.txt (line 18)) (2019.3)\n",
      "Requirement already satisfied: tensorboard-data-server<0.7.0,>=0.6.0 in /Users/fmdgaspar/opt/anaconda3/lib/python3.9/site-packages (from tb-nightly->-r requirements.txt (line 30)) (0.6.1)\n",
      "Requirement already satisfied: grpcio>=1.24.3 in /Users/fmdgaspar/opt/anaconda3/lib/python3.9/site-packages (from tb-nightly->-r requirements.txt (line 30)) (1.47.0)\n",
      "Requirement already satisfied: wheel>=0.26 in /Users/fmdgaspar/opt/anaconda3/lib/python3.9/site-packages (from tb-nightly->-r requirements.txt (line 30)) (0.37.0)\n",
      "Requirement already satisfied: werkzeug>=1.0.1 in /Users/fmdgaspar/opt/anaconda3/lib/python3.9/site-packages (from tb-nightly->-r requirements.txt (line 30)) (2.0.2)\n",
      "Requirement already satisfied: google-auth<3,>=1.6.3 in /Users/fmdgaspar/opt/anaconda3/lib/python3.9/site-packages (from tb-nightly->-r requirements.txt (line 30)) (1.35.0)\n",
      "Requirement already satisfied: tensorboard-plugin-wit>=1.6.0 in /Users/fmdgaspar/opt/anaconda3/lib/python3.9/site-packages (from tb-nightly->-r requirements.txt (line 30)) (1.8.1)\n",
      "Requirement already satisfied: markdown>=2.6.8 in /Users/fmdgaspar/opt/anaconda3/lib/python3.9/site-packages (from tb-nightly->-r requirements.txt (line 30)) (3.4.1)\n",
      "Requirement already satisfied: absl-py>=0.4 in /Users/fmdgaspar/opt/anaconda3/lib/python3.9/site-packages (from tb-nightly->-r requirements.txt (line 30)) (1.2.0)\n",
      "Requirement already satisfied: setuptools>=41.0.0 in /Users/fmdgaspar/opt/anaconda3/lib/python3.9/site-packages (from tb-nightly->-r requirements.txt (line 30)) (58.0.4)\n",
      "Requirement already satisfied: google-auth-oauthlib<0.5,>=0.4.1 in /Users/fmdgaspar/opt/anaconda3/lib/python3.9/site-packages (from tb-nightly->-r requirements.txt (line 30)) (0.4.6)\n",
      "Requirement already satisfied: filelock in /Users/fmdgaspar/opt/anaconda3/lib/python3.9/site-packages (from gdown->-r requirements.txt (line 33)) (3.3.1)\n",
      "Requirement already satisfied: beautifulsoup4 in /Users/fmdgaspar/opt/anaconda3/lib/python3.9/site-packages (from gdown->-r requirements.txt (line 33)) (4.10.0)\n",
      "Requirement already satisfied: pycodestyle<2.8.0,>=2.7.0 in /Users/fmdgaspar/opt/anaconda3/lib/python3.9/site-packages (from flake8->-r requirements.txt (line 34)) (2.7.0)\n",
      "Requirement already satisfied: mccabe<0.7.0,>=0.6.0 in /Users/fmdgaspar/opt/anaconda3/lib/python3.9/site-packages (from flake8->-r requirements.txt (line 34)) (0.6.1)\n",
      "Requirement already satisfied: pyflakes<2.4.0,>=2.3.0 in /Users/fmdgaspar/opt/anaconda3/lib/python3.9/site-packages (from flake8->-r requirements.txt (line 34)) (2.3.1)\n",
      "Collecting gitdb<5,>=4.0.1\n",
      "  Using cached gitdb-4.0.9-py3-none-any.whl (63 kB)\n",
      "Collecting smmap<6,>=3.0.1\n",
      "  Using cached smmap-5.0.0-py3-none-any.whl (24 kB)\n",
      "Requirement already satisfied: cachetools<5.0,>=2.0.0 in /Users/fmdgaspar/opt/anaconda3/lib/python3.9/site-packages (from google-auth<3,>=1.6.3->tb-nightly->-r requirements.txt (line 30)) (4.2.4)\n",
      "Requirement already satisfied: rsa<5,>=3.1.4 in /Users/fmdgaspar/opt/anaconda3/lib/python3.9/site-packages (from google-auth<3,>=1.6.3->tb-nightly->-r requirements.txt (line 30)) (4.9)\n",
      "Requirement already satisfied: pyasn1-modules>=0.2.1 in /Users/fmdgaspar/opt/anaconda3/lib/python3.9/site-packages (from google-auth<3,>=1.6.3->tb-nightly->-r requirements.txt (line 30)) (0.2.8)\n",
      "Requirement already satisfied: requests-oauthlib>=0.7.0 in /Users/fmdgaspar/opt/anaconda3/lib/python3.9/site-packages (from google-auth-oauthlib<0.5,>=0.4.1->tb-nightly->-r requirements.txt (line 30)) (1.3.1)\n",
      "Requirement already satisfied: importlib-metadata>=4.4 in /Users/fmdgaspar/opt/anaconda3/lib/python3.9/site-packages (from markdown>=2.6.8->tb-nightly->-r requirements.txt (line 30)) (4.8.1)\n",
      "Requirement already satisfied: zipp>=0.5 in /Users/fmdgaspar/opt/anaconda3/lib/python3.9/site-packages (from importlib-metadata>=4.4->markdown>=2.6.8->tb-nightly->-r requirements.txt (line 30)) (3.6.0)\n"
     ]
    },
    {
     "name": "stdout",
     "output_type": "stream",
     "text": [
      "Requirement already satisfied: pyasn1<0.5.0,>=0.4.6 in /Users/fmdgaspar/opt/anaconda3/lib/python3.9/site-packages (from pyasn1-modules>=0.2.1->google-auth<3,>=1.6.3->tb-nightly->-r requirements.txt (line 30)) (0.4.8)\n",
      "Requirement already satisfied: oauthlib>=3.0.0 in /Users/fmdgaspar/opt/anaconda3/lib/python3.9/site-packages (from requests-oauthlib>=0.7.0->google-auth-oauthlib<0.5,>=0.4.1->tb-nightly->-r requirements.txt (line 30)) (3.2.0)\n",
      "Requirement already satisfied: soupsieve>1.2 in /Users/fmdgaspar/opt/anaconda3/lib/python3.9/site-packages (from beautifulsoup4->gdown->-r requirements.txt (line 33)) (2.2.1)\n",
      "Requirement already satisfied: PySocks!=1.5.7,>=1.5.6 in /Users/fmdgaspar/opt/anaconda3/lib/python3.9/site-packages (from requests>=2.23.0->-r requirements.txt (line 9)) (1.7.1)\n",
      "Building wheels for collected packages: easydict, gdown\n",
      "  Building wheel for easydict (setup.py) ... \u001b[?25ldone\n",
      "\u001b[?25h  Created wheel for easydict: filename=easydict-1.9-py3-none-any.whl size=6360 sha256=10db34d1d083ad2dbba174fe3027e2be90c65167039fc19c20e02c55e74c7c0d\n",
      "  Stored in directory: /Users/fmdgaspar/Library/Caches/pip/wheels/b2/1c/36/fd8efc3fa029b1445d869f359ec13e8fbce7fc9e81505bca66\n",
      "  Building wheel for gdown (PEP 517) ... \u001b[?25ldone\n",
      "\u001b[?25h  Created wheel for gdown: filename=gdown-4.5.1-py3-none-any.whl size=14933 sha256=8ac80ea65486de6fef4c322b1a2d0d6c81af881a81d015563711a7300a6cc5ca\n",
      "  Stored in directory: /Users/fmdgaspar/Library/Caches/pip/wheels/b8/79/f0/b523d25d96b0bbb12bb024b97940d08c4fcd498a00070c8d82\n",
      "Successfully built easydict gdown\n",
      "Installing collected packages: smmap, gitdb, yacs, tb-nightly, isort, GitPython, gdown, easydict\n",
      "  Attempting uninstall: isort\n",
      "    Found existing installation: isort 5.9.3\n",
      "    Uninstalling isort-5.9.3:\n",
      "      Successfully uninstalled isort-5.9.3\n",
      "Successfully installed GitPython-3.1.27 easydict-1.9 gdown-4.5.1 gitdb-4.0.9 isort-4.3.21 smmap-5.0.0 tb-nightly-2.11.0a20220907 yacs-0.1.8\n"
     ]
    }
   ],
   "source": [
    "!pip install -r requirements.txt\n"
   ]
  },
  {
   "cell_type": "code",
   "execution_count": 14,
   "id": "34f0b531",
   "metadata": {},
   "outputs": [
    {
     "name": "stdout",
     "output_type": "stream",
     "text": [
      "Looking in links: https://download.pytorch.org/whl/torch_stable.html\n",
      "Collecting torch==1.8.1\n",
      "  Using cached torch-1.8.1-cp39-none-macosx_10_9_x86_64.whl (119.6 MB)\n",
      "Collecting torchvision==0.9.1\n",
      "  Downloading torchvision-0.9.1-cp39-cp39-macosx_10_9_x86_64.whl (13.1 MB)\n",
      "\u001b[K     |████████████████████████████████| 13.1 MB 3.7 MB/s eta 0:00:01\n",
      "\u001b[?25hCollecting torchaudio==0.8.1\n",
      "  Downloading torchaudio-0.8.1-cp39-cp39-macosx_10_9_x86_64.whl (1.5 MB)\n",
      "\u001b[K     |████████████████████████████████| 1.5 MB 42.3 MB/s eta 0:00:01\n",
      "\u001b[?25hRequirement already satisfied: typing-extensions in /Users/fmdgaspar/opt/anaconda3/lib/python3.9/site-packages (from torch==1.8.1) (4.3.0)\n",
      "Requirement already satisfied: numpy in /Users/fmdgaspar/opt/anaconda3/lib/python3.9/site-packages (from torch==1.8.1) (1.20.3)\n",
      "Requirement already satisfied: pillow>=4.1.1 in /Users/fmdgaspar/opt/anaconda3/lib/python3.9/site-packages (from torchvision==0.9.1) (9.0.1)\n",
      "Installing collected packages: torch, torchvision, torchaudio\n",
      "  Attempting uninstall: torch\n",
      "    Found existing installation: torch 1.12.1\n",
      "    Uninstalling torch-1.12.1:\n",
      "      Successfully uninstalled torch-1.12.1\n",
      "  Attempting uninstall: torchvision\n",
      "    Found existing installation: torchvision 0.13.1\n",
      "    Uninstalling torchvision-0.13.1:\n",
      "      Successfully uninstalled torchvision-0.13.1\n",
      "Successfully installed torch-1.8.1 torchaudio-0.8.1 torchvision-0.9.1\n"
     ]
    }
   ],
   "source": [
    "!pip install torch==1.8.1 torchvision==0.9.1 torchaudio==0.8.1 -f https://download.pytorch.org/whl/torch_stable.html\n"
   ]
  },
  {
   "cell_type": "code",
   "execution_count": 10,
   "id": "9a947127",
   "metadata": {},
   "outputs": [
    {
     "name": "stdout",
     "output_type": "stream",
     "text": [
      "Python 3.9.7\r\n"
     ]
    }
   ],
   "source": [
    "!python --version"
   ]
  },
  {
   "cell_type": "code",
   "execution_count": 19,
   "id": "1ffef67d",
   "metadata": {},
   "outputs": [
    {
     "name": "stdout",
     "output_type": "stream",
     "text": [
      "/Users/fmdgaspar/Desktop/Yolov5_DeepSort_Pytorch/strong_sort/deep/reid/torchreid/metrics/rank.py:11: UserWarning: Cython evaluation (very fast so highly recommended) is unavailable, now use python evaluation.\n",
      "  warnings.warn(\n",
      "\u001b[34m\u001b[1mtrack: \u001b[0myolo_weights=/Users/fmdgaspar/Desktop/Yolov5_DeepSort_Pytorch/weights/yolov5m.pt, strong_sort_weights=yolov5s.pt, config_strongsort=strong_sort/configs/strong_sort.yaml, source=1.mp4, imgsz=[640, 640], conf_thres=0.5, iou_thres=0.5, max_det=1000, device=, show_vid=False, save_txt=False, save_conf=False, save_crop=False, save_vid=True, nosave=False, classes=None, agnostic_nms=False, augment=False, visualize=False, update=False, project=runs/track, name=exp, exist_ok=False, line_thickness=3, hide_labels=False, hide_conf=False, hide_class=False, half=False, dnn=False, eval=False\n",
      "YOLOv5 🚀 2022-9-7 Python-3.9.7 torch-1.8.1 CPU\n",
      "\n",
      "Downloading https://github.com/ultralytics/yolov5/releases/download/v6.2/yolov5m.pt to /Users/fmdgaspar/Desktop/Yolov5_DeepSort_Pytorch/weights/yolov5m.pt...\n",
      "100%|██████████████████████████████████████| 40.8M/40.8M [00:01<00:00, 26.4MB/s]\n",
      "\n",
      "Fusing layers... \n",
      "[W NNPACK.cpp:80] Could not initialize NNPACK! Reason: Unsupported hardware.\n",
      "YOLOv5m summary: 290 layers, 21172173 parameters, 0 gradients, 48.9 GFLOPs\n",
      "No URL associated to the chosen DeepSort weights. Choose between:\n",
      "\n",
      "Available .pt ReID models for automatic download\n",
      "['resnet50_market1501.pt', 'resnet50_dukemtmcreid.pt', 'resnet50_msmt17.pt', 'resnet50_fc512_market1501.pt', 'resnet50_fc512_dukemtmcreid.pt', 'resnet50_fc512_msmt17.pt', 'mlfn_market1501.pt', 'mlfn_dukemtmcreid.pt', 'mlfn_msmt17.pt', 'hacnn_market1501.pt', 'hacnn_dukemtmcreid.pt', 'hacnn_msmt17.pt', 'mobilenetv2_x1_0_market1501.pt', 'mobilenetv2_x1_0_dukemtmcreid.pt', 'mobilenetv2_x1_0_msmt17.pt', 'mobilenetv2_x1_4_market1501.pt', 'mobilenetv2_x1_4_dukemtmcreid.pt', 'mobilenetv2_x1_4_msmt17.pt', 'osnet_x1_0_market1501.pt', 'osnet_x1_0_dukemtmcreid.pt', 'osnet_x1_0_msmt17.pt', 'osnet_x0_75_market1501.pt', 'osnet_x0_75_dukemtmcreid.pt', 'osnet_x0_75_msmt17.pt', 'osnet_x0_5_market1501.pt', 'osnet_x0_5_dukemtmcreid.pt', 'osnet_x0_5_msmt17.pt', 'osnet_x0_25_market1501.pt', 'osnet_x0_25_dukemtmcreid.pt', 'osnet_x0_25_msmt17.pt', 'osnet_ibn_x1_0_msmt17.pt', 'osnet_ain_x1_0_msmt17.pt']\n"
     ]
    }
   ],
   "source": [
    "# python track.py --source 0  # webcam\n",
    "#                            img.jpg  # image\n",
    "#                            vid.mp4  # video\n",
    "#                            path/  # directory\n",
    "#                            path/*.jpg  # glob\n",
    "#                            'https://youtu.be/Zgi9g1ksQHc'  # YouTube\n",
    "#                            'rtsp://example.com/media.mp4'  # RTSP, RTMP, HTTP stream\n",
    "                        \n",
    "\n",
    "!python track.py --source 1.mp4 --save-vid --strong-sort-weights yolov5s.pt\n",
    "\n",
    "# by adding  --strong-sort-weights osnet_x0_25_msmt17.pt .this weight will get installed automatically in your current working directory.\n",
    "# After this command, you will get run folder with the results\n",
    "\n",
    "#!python track.py --source img.jpg"
   ]
  },
  {
   "cell_type": "code",
   "execution_count": null,
   "id": "45518f25",
   "metadata": {},
   "outputs": [],
   "source": []
  },
  {
   "cell_type": "code",
   "execution_count": null,
   "id": "8612b486",
   "metadata": {},
   "outputs": [],
   "source": []
  },
  {
   "cell_type": "code",
   "execution_count": null,
   "id": "5362a6c2",
   "metadata": {},
   "outputs": [],
   "source": []
  },
  {
   "cell_type": "code",
   "execution_count": null,
   "id": "fc19a3ba",
   "metadata": {},
   "outputs": [],
   "source": []
  },
  {
   "cell_type": "code",
   "execution_count": null,
   "id": "52a3ddd0",
   "metadata": {},
   "outputs": [],
   "source": []
  },
  {
   "cell_type": "code",
   "execution_count": null,
   "id": "9bcb4d00",
   "metadata": {},
   "outputs": [],
   "source": []
  },
  {
   "cell_type": "code",
   "execution_count": null,
   "id": "dafc84b5",
   "metadata": {},
   "outputs": [],
   "source": []
  }
 ],
 "metadata": {
  "kernelspec": {
   "display_name": "Python 3 (ipykernel)",
   "language": "python",
   "name": "python3"
  },
  "language_info": {
   "codemirror_mode": {
    "name": "ipython",
    "version": 3
   },
   "file_extension": ".py",
   "mimetype": "text/x-python",
   "name": "python",
   "nbconvert_exporter": "python",
   "pygments_lexer": "ipython3",
   "version": "3.9.7"
  }
 },
 "nbformat": 4,
 "nbformat_minor": 5
}
